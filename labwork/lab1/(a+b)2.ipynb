mport tensorflow as tf
tf.reset_default_graph()
with tf.name_scope("A_B_2"):
    with tf.name_scope("A"):
        a = tf.multiply(2, 2, name="multiply")
    with tf.name_scope("B"):
        b = tf.multiply(3, 3, name="multiply")
    with tf.name_scope("C"):
        c= tf.multiply(2, 3, name="multiply")
        d = tf.multiply(2, c, name="multiply")   
    with tf.name_scope("A_B_C"):
        g = tf.add(a, b)
        h = tf.add(g, d)

with tf.Session() as sess:
    writer = tf.summary.FileWriter("/tmp/tboard/output5", sess.graph)
    print(sess.run(h))
    writer.close()