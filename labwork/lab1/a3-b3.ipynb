import tensorflow as tf
with tf.name_scope("A3-B3"):
    with tf.name_scope("A-b"):
        a = tf.subtract(6, 3, name="SUB")
    with tf.name_scope("A2_AB_B2"):
        with tf.name_scope("A2"):
            b = tf.multiply(6, 6, name="MUL")
        with tf.name_scope("AB"):
            c= tf.multiply(6, 3, name="MUL")
        with tf.name_scope("B2"):
            d = tf.multiply(3, 3, name="MUL")
        e = tf.add(b, c, name="ADD")
        f = tf.add(d, e, name="ADD")
    g = tf.multiply(a, f, name="MUL")

with tf.Session() as sess:
    writer = tf.summary.FileWriter("/tmp/tboard/output15", sess.graph)
    print(sess.run(g))
    writer.close()